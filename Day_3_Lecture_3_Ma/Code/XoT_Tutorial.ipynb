{
 "cells": [
  {
   "cell_type": "markdown",
   "metadata": {},
   "source": [
    "# XoT Tutorial"
   ]
  },
  {
   "cell_type": "code",
   "execution_count": 2,
   "metadata": {},
   "outputs": [
    {
     "name": "stdout",
     "output_type": "stream",
     "text": [
      "The autoreload extension is already loaded. To reload it, use:\n",
      "  %reload_ext autoreload\n"
     ]
    }
   ],
   "source": [
    "%load_ext autoreload\n",
    "%autoreload 2"
   ]
  },
  {
   "cell_type": "markdown",
   "metadata": {},
   "source": [
    "## Prepare your OpenAI GPT Model\n",
    "\n",
    "* Import OpenAI model with langchain. \n",
    "* You may run this part of code prior to the course to make sure that the model is ready.\n",
    "\n"
   ]
  },
  {
   "cell_type": "code",
   "execution_count": 4,
   "metadata": {},
   "outputs": [],
   "source": [
    "import os\n",
    "from dotenv import load_dotenv\n",
    "\n",
    "import langchain\n",
    "from langchain_openai import AzureChatOpenAI, ChatOpenAI\n",
    "\n",
    "from langchain.globals import set_llm_cache\n",
    "from langchain.cache import SQLiteCache\n",
    "\n",
    "set_llm_cache(\n",
    "    SQLiteCache(database_path=\".langchain_cache.db\")\n",
    ")  # setup cache for the LLM\n",
    "\n",
    "langchain.debug = False  # set verbose mode to True to show more execution details\n",
    "\n",
    "load_dotenv()\n",
    "\n",
    "# # Use Azure's models\n",
    "# langchain_llm = AzureChatOpenAI(\n",
    "#     azure_endpoint=os.getenv(\"MY_AZURE_ENDPOINT\"),\n",
    "#     api_key=os.getenv(\"MY_AZURE_API_KEY\"),\n",
    "#     api_version=os.getenv(\"MY_AZURE_API_VERSION\"),\n",
    "#     azure_deployment=os.getenv(\"MY_AZURE_DEPLOYMENT_NAME\"),\n",
    "#     verbose=True,\n",
    "# )\n",
    "\n",
    "# Or use OpenAI's model\n",
    "langchain_llm = ChatOpenAI(\n",
    "    base_url=os.getenv(\"MY_OPENAI_API_BASE\"),\n",
    "    api_key=os.getenv(\"MY_OPENAI_API_KEY\"),\n",
    "    model=\"gpt-4o\",\n",
    "    verbose=True,\n",
    ")"
   ]
  },
  {
   "cell_type": "code",
   "execution_count": 3,
   "metadata": {},
   "outputs": [
    {
     "data": {
      "text/plain": [
       "AIMessage(content='The term \"LLM\" can refer to different things depending on the context:\\n\\n1. **Master of Laws (LL.M.):** This is an advanced, postgraduate academic degree in law. It is often pursued by individuals who have already obtained a primary law degree (such as a J.D. or an LL.B.) and wish to gain specialized knowledge in a specific area of law, such as international law, human rights law, or tax law.\\n\\n2. **Large Language Model:** In the context of artificial intelligence and natural language processing, an LLM refers to a type of AI model designed to understand and generate human language. These models are trained on vast datasets containing diverse text sources and can perform a variety of language-related tasks, such as text completion, translation, summarization, and answering questions. Examples include OpenAI\\'s GPT-3 and GPT-4.\\n\\n3. **Linked List Manager (LLM):** In computer science, LLM can also refer to software or a component within an operating system that manages linked lists, which are data structures consisting of nodes that contain data and pointers to other nodes.\\n\\nIf you provide additional context, I can give a more specific explanation tailored to your needs.', id='run-bf8cf6ea-df69-4cd9-9725-73cfcf687311-0')"
      ]
     },
     "execution_count": 3,
     "metadata": {},
     "output_type": "execute_result"
    }
   ],
   "source": [
    "# a debug line to show you have the correct model setup\n",
    "# If your set up is successful, it shows something like \n",
    "# AIMessage(content=\"LLM can refer to different ... \n",
    "langchain_llm.invoke(\"What is LLM?\")"
   ]
  },
  {
   "cell_type": "markdown",
   "metadata": {
    "vscode": {
     "languageId": "plaintext"
    }
   },
   "source": [
    "## Direct Use of LLM\n",
    "\n",
    "* Practice the use of LLM with langchain.\n",
    "* Intent classifier: does the user want to have its tablet repaired?"
   ]
  },
  {
   "cell_type": "code",
   "execution_count": 10,
   "metadata": {},
   "outputs": [],
   "source": [
    "from utils.intent_classifier import intent_classifier_prompt, intent_classifier_parser\n",
    "\n",
    "intent_classifier_chain = (\n",
    "    intent_classifier_prompt | langchain_llm | intent_classifier_parser\n",
    ")"
   ]
  },
  {
   "cell_type": "code",
   "execution_count": 11,
   "metadata": {},
   "outputs": [
    {
     "data": {
      "text/plain": [
       "{'want_to_repair': 'Yes',\n",
       " 'utterance': \"Sure, I'd be happy to help you with your iPad's Bluetooth connection issue. Let's go through some troubleshooting steps.\"}"
      ]
     },
     "execution_count": 11,
     "metadata": {},
     "output_type": "execute_result"
    }
   ],
   "source": [
    "prompt = intent_classifier_prompt.invoke({\"user_input\": \"My ipad cannot connect to bluetooth, I'm here to get some support.\"})\n",
    "output = langchain_llm.invoke(prompt)\n",
    "intent_classifier_parser.invoke(output)"
   ]
  },
  {
   "cell_type": "code",
   "execution_count": 8,
   "metadata": {},
   "outputs": [
    {
     "data": {
      "text/plain": [
       "{'want_to_repair': 'Yes',\n",
       " 'utterance': \"I'm sorry to hear that your iPad is having trouble connecting to Bluetooth. Let me help you with that.\"}"
      ]
     },
     "execution_count": 8,
     "metadata": {},
     "output_type": "execute_result"
    }
   ],
   "source": [
    "intent_classifier_chain.invoke(\n",
    "    {\"user_input\": \"My ipad cannot connect to bluetooth, I'm here to get some support.\"}\n",
    ")"
   ]
  },
  {
   "cell_type": "markdown",
   "metadata": {},
   "source": [
    "## Chain of Thoughts Prompting\n",
    "\n",
    "* Practice the use of CoT with langchain.\n",
    "* Use warranty checker as an example."
   ]
  },
  {
   "cell_type": "code",
   "execution_count": 5,
   "metadata": {},
   "outputs": [],
   "source": [
    "from utils.warranty_module import warranty_parser, warranty_checker_prompt\n",
    "\n",
    "warranty_checker_chain = warranty_checker_prompt | langchain_llm"
   ]
  },
  {
   "cell_type": "code",
   "execution_count": 8,
   "metadata": {},
   "outputs": [
    {
     "data": {
      "text/plain": [
       "[SystemMessage(content=\"You are a helpful agent that help to decide if a product is out of warranty. Note that all product come with a 90-day warranty since purchase. Customer can also purchase additional warranty that extends it to 2 years. Today is May 20th, 2024. Reply if the product has warranty or not. If the product has warranty, reply 'Yes'. If the product does not have warranty, reply 'No'. If you are unsure, reply 'Unsure'.\"),\n",
       " HumanMessage(content='A month ago'),\n",
       " AIMessage(content=\"Analysis: Let's think step by step. All products come with a 90-day warranty since purchase. A month is within the 90-day time span. The product must have warranty. Warranty: Yes. Utterance: Great! Your product has warranty.\"),\n",
       " HumanMessage(content='Last year.'),\n",
       " AIMessage(content=\"Analysis: Let's think step by step. All products come with a 90-day warranty. A year is more than this time span. However, we are not sure if the user purchased additional warranty. We are not sure if the product has warranty. Warranty: Unsure. Utterance: Did you purchase additional warranty?\"),\n",
       " HumanMessage(content='the screen is broken'),\n",
       " AIMessage(content=\"Analysis: Let's think step by step. The user didn't provided a time information, we cannot tell if it has warranty. Warranty: Unsure. Utterance: I am sorry to hear that. But I need to know if the product has warranty. Could you provide me the time of purchase?\"),\n",
       " HumanMessage(content='I am not sure'),\n",
       " AIMessage(content=\"Analysis: Let's think step by step. The user is unsure about the warranty. Let's ask about when the product is purchased. Warranty: Unsure. Utterance: I am sorry to hear that. But I need to know if the product has warranty. Could you provide me the time of purchase?\"),\n",
       " HumanMessage(content='I want to check my warranty status.\\nThe output should be formatted as a JSON instance that conforms to the JSON schema below.\\n\\nAs an example, for the schema {\"properties\": {\"foo\": {\"title\": \"Foo\", \"description\": \"a list of strings\", \"type\": \"array\", \"items\": {\"type\": \"string\"}}}, \"required\": [\"foo\"]}\\nthe object {\"foo\": [\"bar\", \"baz\"]} is a well-formatted instance of the schema. The object {\"properties\": {\"foo\": [\"bar\", \"baz\"]}} is not well-formatted.\\n\\nHere is the output schema:\\n```\\n{\"properties\": {\"Analysis\": {\"title\": \"Analysis\", \"description\": \"AI\\'s analysis of the current situation\", \"type\": \"string\"}, \"Warranty\": {\"title\": \"Warranty\", \"description\": \"Whether the use\\'s product have a warranty\", \"type\": \"string\"}, \"Utterance\": {\"title\": \"Utterance\", \"description\": \"AI\\'s response to the user\", \"type\": \"string\"}}, \"required\": [\"Analysis\", \"Warranty\", \"Utterance\"]}\\n```')]"
      ]
     },
     "execution_count": 8,
     "metadata": {},
     "output_type": "execute_result"
    }
   ],
   "source": [
    "warranty_checker_prompt.invoke({\"user_input\": \"I want to check my warranty status.\"}).to_messages()"
   ]
  },
  {
   "cell_type": "code",
   "execution_count": 6,
   "metadata": {},
   "outputs": [
    {
     "data": {
      "text/plain": [
       "{'Analysis': 'The user is unsure about the warranty status and has not provided a specific purchase date. Without this information, it is impossible to determine whether the product is still under warranty.',\n",
       " 'Warranty': 'Unsure',\n",
       " 'Utterance': 'I am sorry to hear that. To help you check your warranty status, could you provide me with the date of purchase or any information about an extended warranty?'}"
      ]
     },
     "execution_count": 6,
     "metadata": {},
     "output_type": "execute_result"
    }
   ],
   "source": [
    "output = warranty_checker_chain.invoke({\"user_input\": \"I bought this item on May 1st, 2023.\"})\n",
    "warranty_parser.invoke(output)"
   ]
  },
  {
   "cell_type": "markdown",
   "metadata": {},
   "source": [
    "## Self-Consistency with CoT\n",
    "\n",
    "* We use self-consistent CoT to practice repair plan suggestion. Available plans are repair, replace and trade-in options. \n",
    "* Three CoT and a final evaluator. Following the structures below:\n",
    "\n",
    "\n",
    "<center><img src=\"doc/figs/XoT_Tutorial_Diagrams-CoT-SC.svg\" alt=\"CoT-SC Structure\" style=\"width: 400px;\"/></center>"
   ]
  },
  {
   "cell_type": "code",
   "execution_count": 17,
   "metadata": {},
   "outputs": [],
   "source": [
    "from utils.repair_strategy import repair_strategy_prompt, repair_parser\n",
    "from utils.replace_strategy import replacement_strategy_prompt, replacement_parser\n",
    "from utils.tradein_strategy import tradein_strategy_prompt, tradein_parser\n",
    "\n",
    "repair_strategy_chain = repair_strategy_prompt | langchain_llm\n",
    "replacement_strategy_chain = replacement_strategy_prompt | langchain_llm\n",
    "tradein_strategy_chain = tradein_strategy_prompt | langchain_llm"
   ]
  },
  {
   "cell_type": "code",
   "execution_count": 15,
   "metadata": {},
   "outputs": [
    {
     "data": {
      "text/plain": [
       "{'Analysis': \"Let's think step by step. The cost for fixing the screen is 120 USD, and the cost for fixing the battery is 30 USD. The total cost is 150 USD.\",\n",
       " 'Cost': '150 USD',\n",
       " 'Utterance': 'The total cost to fix the product is 150 USD.'}"
      ]
     },
     "execution_count": 15,
     "metadata": {},
     "output_type": "execute_result"
    }
   ],
   "source": [
    "repair_strategy_chain.invoke(\n",
    "    {\"user_input\": \"I want to repair my device. The screen and the battery are broken.\"}\n",
    ")\n",
    "repair_parser.invoke(\n",
    "    repair_strategy_chain.invoke(\n",
    "        {\n",
    "            \"user_input\": \"I want to repair my device. The screen and the battery are broken.\"\n",
    "        }\n",
    "    )\n",
    ")"
   ]
  },
  {
   "cell_type": "code",
   "execution_count": 16,
   "metadata": {},
   "outputs": [
    {
     "data": {
      "text/plain": [
       "{'Analysis': 'The keyboard is not working, which is a significant issue. Trading in the device with a non-functional keyboard will still provide some value.',\n",
       " 'Coupon': '100 USD',\n",
       " 'Utterance': 'You can get a 100 USD coupon if you choose to trade in your old device for a new one.'}"
      ]
     },
     "execution_count": 16,
     "metadata": {},
     "output_type": "execute_result"
    }
   ],
   "source": [
    "tradein_strategy_chain.invoke(\n",
    "    {\"user_input\": \"I want to trade in my device. The keyboard is not working\"}\n",
    ")\n",
    "tradein_parser.invoke(\n",
    "    tradein_strategy_chain.invoke(\n",
    "        {\"user_input\": \"I want to trade in my device. The keyboard is not working\"}\n",
    "    )\n",
    ")"
   ]
  },
  {
   "cell_type": "code",
   "execution_count": 13,
   "metadata": {},
   "outputs": [
    {
     "data": {
      "text/plain": [
       "{'Analysis': 'The user does not have a warranty, so they cannot get a replacement for the broken screen.',\n",
       " 'Valid': 'No',\n",
       " 'Utterance': \"I'm sorry, but you cannot get a replacement for the screen. Only products with warranty can be replaced.\"}"
      ]
     },
     "execution_count": 13,
     "metadata": {},
     "output_type": "execute_result"
    }
   ],
   "source": [
    "replacement_strategy_chain.invoke({\"user_input\": \"The screen is broken, I want to replace it.\", \"additional_info\": \"No warranty\"})\n",
    "replacement_parser.invoke(replacement_strategy_chain.invoke({\"user_input\": \"The screen is broken, I want to replace it.\", \"additional_info\": \"No warranty\"}))"
   ]
  },
  {
   "cell_type": "code",
   "execution_count": 13,
   "metadata": {},
   "outputs": [],
   "source": [
    "from utils.plan_selection import plan_selection_prompt, plan_parser\n",
    "\n",
    "plan_evaluater_chain = plan_selection_prompt | langchain_llm"
   ]
  },
  {
   "cell_type": "code",
   "execution_count": 19,
   "metadata": {},
   "outputs": [
    {
     "data": {
      "text/plain": [
       "{'Analysis': 'The product can be replaced, repaired, or traded in. For repair, the cost is 150 USD. For trade-in, the price for a new device is 249 USD, and you can receive a 100 USD coupon, effectively spending 149 USD. Since the replacement is valid and costs 0 USD, it is the best and most cost-effective option.',\n",
       " 'Cost': '0 USD',\n",
       " 'Plan': 'replace',\n",
       " 'Utterance': 'Your device can be replaced at no cost. This is the most cost-effective option compared to repairing, which would cost 150 USD, or trading in, which would cost you 149 USD for a new device after applying the 100 USD coupon.'}"
      ]
     },
     "execution_count": 19,
     "metadata": {},
     "output_type": "execute_result"
    }
   ],
   "source": [
    "plan_evaluater_chain.invoke(\n",
    "    {\n",
    "        \"replace_plan\": \"I'm sorry, but you cannot get a replacement. Only products with warranty can be replaced.\",\n",
    "        \"repair_plan\": \"The total cost to fix the product is 150 USD.\",\n",
    "        \"tradein_plan\": \"You can get a 100 USD coupon if you want to trade in your old device for a new one.\",\n",
    "        \"user_preference\": \"None\",\n",
    "        \"selected_plan\": \"repair\",\n",
    "        \"ai_analysis\": \"Let's thing step by step. The cost for a new device is 249 USD, the user can get a coupon so he will spend 149 USD for the new device. The cost for fixing the old device is 150 USD. Therefore, it is better to buy a new device as the cost is almost the same.\",\n",
    "        \"ai_response\": \"Maybe you should consider buying a new device instead of fixing the old one. The cost for fixing the old device is 150 USD, and the cost for a new device is 249 USD. You can get a 100 USD coupon if you want to trade in your old device for a new one. The total cost to fix the product is 150 USD.\",\n",
    "    }\n",
    ")\n",
    "plan_parser.invoke(\n",
    "    plan_evaluater_chain.invoke(\n",
    "        {\n",
    "            \"replace_plan\": \"Your device can be replaced.\",\n",
    "            \"repair_plan\": \"The total cost to fix the product is 150 USD.\",\n",
    "            \"tradein_plan\": \"You can get a 100 USD coupon if you want to trade in your old device for a new one.\",\n",
    "            \"user_preference\": \"None\",\n",
    "        }\n",
    "    )\n",
    ")"
   ]
  },
  {
   "cell_type": "code",
   "execution_count": 18,
   "metadata": {},
   "outputs": [
    {
     "data": {
      "text/plain": [
       "{'Analysis': 'The product cannot be replaced without a warranty. For repair, the cost to fix the screen is 120 USD. For trade-in, the cost for a new device is 249 USD, and the user can get a 100 USD coupon, so they will spend 149 USD for the new device. Therefore, it is better to buy a new device as the cost is almost the same.',\n",
       " 'Cost': '149 USD',\n",
       " 'Plan': 'Trade-in',\n",
       " 'Utterance': 'Maybe you should consider buying a new device instead of fixing the old one. The cost to repair the screen is 120 USD, and the cost for a new device is 249 USD. You can get a 100 USD coupon if you want to trade in your old device for a new one, bringing the total cost to 149 USD.'}"
      ]
     },
     "execution_count": 18,
     "metadata": {},
     "output_type": "execute_result"
    }
   ],
   "source": [
    "from langchain_core.runnables import RunnableParallel\n",
    "\n",
    "# The tot structure\n",
    "repair_strategy_chain = repair_strategy_prompt | langchain_llm | repair_parser\n",
    "replacement_strategy_chain = (\n",
    "    replacement_strategy_prompt | langchain_llm | replacement_parser\n",
    ")\n",
    "tradein_strategy_chain = tradein_strategy_prompt | langchain_llm | tradein_parser\n",
    "\n",
    "tot_generater = RunnableParallel(repair_plan = repair_strategy_chain, replace_plan = replacement_strategy_chain, tradein_plan = tradein_strategy_chain)\n",
    "\n",
    "plan_output = tot_generater.invoke({\n",
    "    \"user_input\": \"The screen is broken, I want to replace it.\",\n",
    "    \"additional_info\": \"No warranty\"\n",
    "})\n",
    "\n",
    "tot_scorer = plan_selection_prompt | langchain_llm | plan_parser\n",
    "\n",
    "tot_scorer.invoke({\n",
    "    \"replace_plan\": plan_output[\"replace_plan\"][\"Utterance\"],\n",
    "    \"repair_plan\": plan_output[\"repair_plan\"][\"Utterance\"],\n",
    "    \"tradein_plan\": plan_output[\"tradein_plan\"][\"Utterance\"],\n",
    "    \"user_preference\": \"None\",\n",
    "})"
   ]
  },
  {
   "cell_type": "markdown",
   "metadata": {},
   "source": [
    "## Tree of Thought\n",
    "\n",
    "* More complicated repairing scenario. Add time and budget constrain to the repairing process.\n",
    "\n",
    "<center><img src=\"doc/figs/XoT_Tutorial_Diagrams-ToT.svg\" alt=\"ToT Structure\" style=\"width: 400;\"/></center>"
   ]
  },
  {
   "cell_type": "code",
   "execution_count": 17,
   "metadata": {},
   "outputs": [
    {
     "data": {
      "text/plain": [
       "{'Analysis': 'The product is under warranty, so the user can get a free replacement for the broken screen. The cost to repair the device is 120 USD, and the cost for a new device is 249 USD with a 100 USD coupon available for trade-in. Since the product is under warranty, the replacement is the best option as it costs 0 USD.',\n",
       " 'Cost': '0 USD',\n",
       " 'Plan': 'Replace',\n",
       " 'Utterance': 'Your product is under warranty, so you can get a free replacement for the broken screen. This is the best option since it will cost you nothing.'}"
      ]
     },
     "metadata": {},
     "output_type": "display_data"
    }
   ],
   "source": [
    "plan_output_2 = tot_generater.invoke(\n",
    "    {\n",
    "        \"user_input\": \"The screen is broken, I want to replace it.\",\n",
    "        \"additional_info\": \"I have warranty.\",\n",
    "    }\n",
    ")\n",
    "first_layer_plan = tot_scorer.invoke(\n",
    "    {\n",
    "        \"replace_plan\": plan_output_2[\"replace_plan\"][\"Utterance\"],\n",
    "        \"repair_plan\": plan_output_2[\"repair_plan\"][\"Utterance\"],\n",
    "        \"tradein_plan\": plan_output_2[\"tradein_plan\"][\"Utterance\"],\n",
    "        \"user_preference\": \"None\",\n",
    "    }\n",
    ")\n",
    "display(first_layer_plan)"
   ]
  },
  {
   "cell_type": "code",
   "execution_count": 18,
   "metadata": {},
   "outputs": [
    {
     "data": {
      "text/plain": [
       "{'Analysis': 'The product is under warranty, so the user can get a free replacement for the broken screen. The cost to repair the device is 120 USD, and the cost for a new device is 249 USD with a 100 USD coupon available for trade-in. Since the product is under warranty, the replacement is the best option as it costs 0 USD.',\n",
       " 'Cost': '0 USD',\n",
       " 'Time': 'Get a space grey tablet now as it is in stock.',\n",
       " 'Plan': 'Replace',\n",
       " 'Utterance': 'Your product is under warranty, so you can get a free replacement for the broken screen. This is the best option since it will cost you nothing. You can get a space grey tablet now as it is in stock.'}"
      ]
     },
     "execution_count": 18,
     "metadata": {},
     "output_type": "execute_result"
    }
   ],
   "source": [
    "from utils.timebased_generator import get_time_contrain_of_plans, time_aware_plan_parser, time_aware_plan_selection_prompt\n",
    "\n",
    "\n",
    "time_aware_tot_scorer = time_aware_plan_selection_prompt | langchain_llm | time_aware_plan_parser\n",
    "\n",
    "second_layer_plan = get_time_contrain_of_plans(first_layer_plan)\n",
    "\n",
    "time_aware_tot_scorer.invoke({\n",
    "    \"plans\": second_layer_plan,\n",
    "})\n"
   ]
  },
  {
   "cell_type": "markdown",
   "metadata": {},
   "source": [
    "## GoT structure\n",
    "\n",
    "* We can reuse all the previous chains to form a GoT structure.\n",
    "* Before that, we need to introduce two extra chain, one for collecting tech issue, one for generating questions for collecting tech issues from users.\n",
    "* GoT structure is shown below:\n",
    "\n",
    "<center><img src=\"doc/figs/XoT_Tutorial_Diagrams-GoT.svg\" alt=\"GoT Structure\" style=\"width: 400;\"/></center>\n"
   ]
  },
  {
   "cell_type": "code",
   "execution_count": 19,
   "metadata": {},
   "outputs": [],
   "source": [
    "# upon receiving user input, all nodes will update its internal state\n",
    "from utils.techissue_analyser import tech_issue_analyser_prompt, tech_issue_analyser_parser\n",
    "\n",
    "tech_issue_analyser_chain = tech_issue_analyser_prompt | langchain_llm | tech_issue_analyser_parser"
   ]
  },
  {
   "cell_type": "code",
   "execution_count": 20,
   "metadata": {},
   "outputs": [
    {
     "data": {
      "text/plain": [
       "{'tech_issue': ['Screen', 'Charging port']}"
      ]
     },
     "execution_count": 20,
     "metadata": {},
     "output_type": "execute_result"
    }
   ],
   "source": [
    "tech_issue_analyser_chain.invoke(\n",
    "    {\n",
    "        \"chat_history\": \"I bought this item on May 1st, 2023. \\n The screen is broken, I want to replace it. \\n It does not charge at the moment\",\n",
    "        \"user_input\": \"Please help.\"\n",
    "    }\n",
    ")"
   ]
  },
  {
   "cell_type": "code",
   "execution_count": 21,
   "metadata": {},
   "outputs": [
    {
     "data": {
      "text/plain": [
       "{'Analysis': 'The user is unsure about the warranty. Without knowing the purchase date or whether additional warranty was bought, we cannot determine if the product is still under warranty.',\n",
       " 'Warranty': 'Unsure',\n",
       " 'Utterance': \"I understand that you're unsure. Could you check any purchase receipts or emails to find out when the product was purchased? That information will help determine the warranty status.\"}"
      ]
     },
     "execution_count": 21,
     "metadata": {},
     "output_type": "execute_result"
    }
   ],
   "source": [
    "warranty_checker_fullchain = warranty_checker_prompt | langchain_llm | warranty_parser\n",
    "warranty_checker_fullchain.invoke({\"user_in put\": \"I'm not sure\"})"
   ]
  },
  {
   "cell_type": "code",
   "execution_count": 22,
   "metadata": {},
   "outputs": [
    {
     "data": {
      "text/plain": [
       "{'utterance': \"I understand that you're unsure. Could you check any purchase receipts or emails to find out when the product was purchased? That information will help determine the warranty status.\"}"
      ]
     },
     "execution_count": 22,
     "metadata": {},
     "output_type": "execute_result"
    }
   ],
   "source": [
    "# A simple GoT Prompter: decide what question to ask based on the required information.\n",
    "from utils.question_generator import (\n",
    "    question_generator_prompt,\n",
    "    question_generator_parser,\n",
    ")  # The parser\n",
    "\n",
    "question_generator_chain = (\n",
    "    question_generator_prompt | langchain_llm | question_generator_parser\n",
    ")\n",
    "\n",
    "question_generator_chain.invoke(\n",
    "    {\n",
    "        \"chat_history\": \"\",\n",
    "        \"required_information\": \"preference (how much repair fee can afford?)\",\n",
    "        \"suggested_question\": \"\",\n",
    "    }\n",
    ")\n",
    "\n",
    "question_generator_chain.invoke(\n",
    "    {\n",
    "        \"chat_history\": \"\",\n",
    "        \"required_information\": \"if user's product have warranty\",\n",
    "        \"suggested_question\": \"I understand that you're unsure. Could you check any purchase receipts or emails to find out when the product was purchased? That information will help determine the warranty status.\",\n",
    "    }\n",
    ")\n",
    "\n",
    "# A simple GoT Controller: ask twice for the required information, and then generate a plan\n",
    "# See the chatbot"
   ]
  },
  {
   "cell_type": "code",
   "execution_count": 23,
   "metadata": {},
   "outputs": [],
   "source": [
    "from chatbot import Chatbot\n",
    "\n",
    "customer_chatbot = Chatbot()"
   ]
  },
  {
   "cell_type": "code",
   "execution_count": 24,
   "metadata": {},
   "outputs": [
    {
     "data": {
      "text/plain": [
       "'Hello! This is repairing bot. I can help you diagnose your tablet and provide you a repairing suggestion. How can I help you today?'"
      ]
     },
     "execution_count": 24,
     "metadata": {},
     "output_type": "execute_result"
    }
   ],
   "source": [
    "customer_chatbot.interact(\"hello\")"
   ]
  },
  {
   "cell_type": "code",
   "execution_count": 25,
   "metadata": {},
   "outputs": [
    {
     "data": {
      "text/plain": [
       "'Could you please provide me more information about the issue of your tablet? And when did you purchased this item?'"
      ]
     },
     "execution_count": 25,
     "metadata": {},
     "output_type": "execute_result"
    }
   ],
   "source": [
    "customer_chatbot.interact(\"I want to repair my tablet\")"
   ]
  },
  {
   "cell_type": "code",
   "execution_count": 26,
   "metadata": {},
   "outputs": [
    {
     "data": {
      "text/plain": [
       "'I am sorry to hear that. To determine if your product is still under warranty, could you please provide the purchase date?'"
      ]
     },
     "execution_count": 26,
     "metadata": {},
     "output_type": "execute_result"
    }
   ],
   "source": [
    "customer_chatbot.interact(\"Yeah, the screen is always black and there is no audio.\")"
   ]
  },
  {
   "cell_type": "code",
   "execution_count": 27,
   "metadata": {},
   "outputs": [
    {
     "data": {
      "text/plain": [
       "'I am sorry to hear that. But I need to know if the product has warranty. Could you provide me the time of purchase?'"
      ]
     },
     "execution_count": 27,
     "metadata": {},
     "output_type": "execute_result"
    }
   ],
   "source": [
    "customer_chatbot.interact(\"Sorry I don't know\")"
   ]
  },
  {
   "cell_type": "code",
   "execution_count": 28,
   "metadata": {},
   "outputs": [
    {
     "data": {
      "text/plain": [
       "\"Based on the information you provided, I can generate a rought plan for you. It may take a few seconds. If you want me to generate a plan for you, please reply 'Generate a plan'. If you want to end the conversation, please reply 'Exit'.\""
      ]
     },
     "execution_count": 28,
     "metadata": {},
     "output_type": "execute_result"
    }
   ],
   "source": [
    "customer_chatbot.interact(\"I'm not sure\")"
   ]
  },
  {
   "cell_type": "code",
   "execution_count": 29,
   "metadata": {},
   "outputs": [
    {
     "data": {
      "text/plain": [
       "'Maybe you should consider buying a new device instead of fixing the old one. The cost for fixing the old device is 180 USD, and the cost for a new device is 249 USD. You can get a 100 USD coupon if you want to trade in your old device for a new one. The total cost for the new device after the trade-in will be 149 USD. You can get a space grey tablet now as it is in stock.'"
      ]
     },
     "execution_count": 29,
     "metadata": {},
     "output_type": "execute_result"
    }
   ],
   "source": [
    "customer_chatbot.interact(\"Generate a plan\")"
   ]
  },
  {
   "cell_type": "code",
   "execution_count": null,
   "metadata": {},
   "outputs": [],
   "source": []
  }
 ],
 "metadata": {
  "kernelspec": {
   "display_name": "xot_tutorial",
   "language": "python",
   "name": "python3"
  },
  "language_info": {
   "codemirror_mode": {
    "name": "ipython",
    "version": 3
   },
   "file_extension": ".py",
   "mimetype": "text/x-python",
   "name": "python",
   "nbconvert_exporter": "python",
   "pygments_lexer": "ipython3",
   "version": "3.1.undefined"
  }
 },
 "nbformat": 4,
 "nbformat_minor": 2
}
